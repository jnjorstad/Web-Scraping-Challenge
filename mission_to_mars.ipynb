{
 "cells": [
  {
   "cell_type": "code",
   "execution_count": 1,
   "id": "e6e7b998",
   "metadata": {},
   "outputs": [],
   "source": [
    "#dependencies\n",
    "from bs4 import BeautifulSoup as bs\n",
    "import requests\n",
    "import pandas as pd\n",
    "from webdriver_manager.chrome import ChromeDriverManager\n",
    "import os\n",
    "from flask import Flask, render_template, redirect\n",
    "from splinter import Browser\n",
    "\n"
   ]
  },
  {
   "cell_type": "code",
   "execution_count": 2,
   "id": "8805caca",
   "metadata": {},
   "outputs": [],
   "source": [
    "#NASA Mars News"
   ]
  },
  {
   "cell_type": "code",
   "execution_count": 3,
   "id": "5712ae18",
   "metadata": {
    "scrolled": true
   },
   "outputs": [
    {
     "name": "stderr",
     "output_type": "stream",
     "text": [
      "\n",
      "\n",
      "====== WebDriver manager ======\n",
      "Current google-chrome version is 102.0.5005\n",
      "Get LATEST chromedriver version for 102.0.5005 google-chrome\n",
      "Trying to download new driver from https://chromedriver.storage.googleapis.com/102.0.5005.61/chromedriver_win32.zip\n",
      "Driver has been saved in cache [C:\\Users\\jenna\\.wdm\\drivers\\chromedriver\\win32\\102.0.5005.61]\n"
     ]
    }
   ],
   "source": [
    "#setup splinter\n",
    "executable_path = {'executable_path': ChromeDriverManager().install()}\n",
    "browser = Browser('chrome', **executable_path, headless=False)"
   ]
  },
  {
   "cell_type": "code",
   "execution_count": 4,
   "id": "2d5a7b73",
   "metadata": {},
   "outputs": [
    {
     "data": {
      "text/plain": [
       "bs4.BeautifulSoup"
      ]
     },
     "execution_count": 4,
     "metadata": {},
     "output_type": "execute_result"
    }
   ],
   "source": [
    "#url to be scraped\n",
    "url = 'https://redplanetscience.com/'\n",
    "browser.visit(url)\n",
    "\n",
    "#retrieve page \n",
    "html = browser.html\n",
    "\n",
    "#create BeautifulSoup object\n",
    "soup = bs(html, 'html.parser')\n",
    "type(soup)\n"
   ]
  },
  {
   "cell_type": "code",
   "execution_count": 5,
   "id": "a2315193",
   "metadata": {},
   "outputs": [
    {
     "name": "stdout",
     "output_type": "stream",
     "text": [
      "NASA Invites Public to Share Excitement of Mars 2020 Perseverance Rover Launch\n"
     ]
    }
   ],
   "source": [
    "#extract title\n",
    "latest_news_title = soup.find('div', class_='content_title').get_text()\n",
    "print(latest_news_title)"
   ]
  },
  {
   "cell_type": "code",
   "execution_count": 6,
   "id": "5c7fc204",
   "metadata": {
    "scrolled": true
   },
   "outputs": [
    {
     "name": "stdout",
     "output_type": "stream",
     "text": [
      "There are lots of ways to participate in the historic event, which is targeted for July 30.\n"
     ]
    }
   ],
   "source": [
    "#print all paragraphs as texts\n",
    "latest_news_paragraph = soup.find('div', class_='article_teaser_body').get_text()\n",
    "print(latest_news_paragraph)"
   ]
  },
  {
   "cell_type": "code",
   "execution_count": 7,
   "id": "821f9019",
   "metadata": {},
   "outputs": [],
   "source": [
    "news_title = \"NASA's Mars 2020 Comes Full Circle\"\n",
    "\n",
    "news_paragraph = \"Aiming to pinpoint the Martian vehicle's center of gravity, engineers took NASA's 2,300-pound Mars 2020 rover for a spin in the clean room at JPL.\""
   ]
  },
  {
   "cell_type": "code",
   "execution_count": 8,
   "id": "47cd6b33",
   "metadata": {},
   "outputs": [],
   "source": [
    "#JPL Mars Space IMages --Featured Image"
   ]
  },
  {
   "cell_type": "code",
   "execution_count": 9,
   "id": "ebcad108",
   "metadata": {},
   "outputs": [
    {
     "name": "stderr",
     "output_type": "stream",
     "text": [
      "\n",
      "\n",
      "====== WebDriver manager ======\n",
      "Current google-chrome version is 102.0.5005\n",
      "Get LATEST chromedriver version for 102.0.5005 google-chrome\n",
      "Driver [C:\\Users\\jenna\\.wdm\\drivers\\chromedriver\\win32\\102.0.5005.61\\chromedriver.exe] found in cache\n"
     ]
    }
   ],
   "source": [
    "#setup splinter\n",
    "executable_path = {'executable_path': ChromeDriverManager().install()}\n",
    "browser = Browser('chrome', **executable_path, headless=False)"
   ]
  },
  {
   "cell_type": "code",
   "execution_count": 10,
   "id": "561aae70",
   "metadata": {},
   "outputs": [
    {
     "data": {
      "text/plain": [
       "bs4.BeautifulSoup"
      ]
     },
     "execution_count": 10,
     "metadata": {},
     "output_type": "execute_result"
    }
   ],
   "source": [
    "#url to be scraped\n",
    "space_images_url = 'https://spaceimages-mars.com/'\n",
    "browser.visit(space_images_url)\n",
    "\n",
    "#retrieve page \n",
    "html = browser.html\n",
    "\n",
    "#create BeautifulSoup object\n",
    "soup = bs(html, 'html.parser')\n",
    "type(soup)"
   ]
  },
  {
   "cell_type": "code",
   "execution_count": 11,
   "id": "14e51426",
   "metadata": {},
   "outputs": [],
   "source": [
    "image_url = soup.find('img', class_='headerimage fade-in').get(\"src\")\n"
   ]
  },
  {
   "cell_type": "code",
   "execution_count": 12,
   "id": "50e4117e",
   "metadata": {},
   "outputs": [
    {
     "name": "stdout",
     "output_type": "stream",
     "text": [
      "image/featured/mars1.jpg\n"
     ]
    }
   ],
   "source": [
    "print(image_url)"
   ]
  },
  {
   "cell_type": "code",
   "execution_count": 13,
   "id": "685f69ad",
   "metadata": {},
   "outputs": [],
   "source": [
    "featured_image_url = 'https://spaceimages-mars.com/image/featured/mars2.jpg'"
   ]
  },
  {
   "cell_type": "code",
   "execution_count": 14,
   "id": "048ad781",
   "metadata": {},
   "outputs": [],
   "source": [
    "#Mars Facts"
   ]
  },
  {
   "cell_type": "code",
   "execution_count": 15,
   "id": "377d8f52",
   "metadata": {},
   "outputs": [],
   "source": [
    "#url to be scraped\n",
    "mars_facts_url = 'https://galaxyfacts-mars.com/'\n",
    "browser.visit(mars_facts_url)"
   ]
  },
  {
   "cell_type": "code",
   "execution_count": 16,
   "id": "0d4bf078",
   "metadata": {},
   "outputs": [
    {
     "data": {
      "text/plain": [
       "[                         0                1                2\n",
       " 0  Mars - Earth Comparison             Mars            Earth\n",
       " 1                Diameter:         6,779 km        12,742 km\n",
       " 2                    Mass:  6.39 × 10^23 kg  5.97 × 10^24 kg\n",
       " 3                   Moons:                2                1\n",
       " 4       Distance from Sun:   227,943,824 km   149,598,262 km\n",
       " 5          Length of Year:   687 Earth days      365.24 days\n",
       " 6             Temperature:     -87 to -5 °C      -88 to 58°C,\n",
       "                       0                              1\n",
       " 0  Equatorial Diameter:                       6,792 km\n",
       " 1       Polar Diameter:                       6,752 km\n",
       " 2                 Mass:  6.39 × 10^23 kg (0.11 Earths)\n",
       " 3                Moons:          2 ( Phobos & Deimos )\n",
       " 4       Orbit Distance:       227,943,824 km (1.38 AU)\n",
       " 5         Orbit Period:           687 days (1.9 years)\n",
       " 6  Surface Temperature:                   -87 to -5 °C\n",
       " 7         First Record:              2nd millennium BC\n",
       " 8          Recorded By:           Egyptian astronomers]"
      ]
     },
     "execution_count": 16,
     "metadata": {},
     "output_type": "execute_result"
    }
   ],
   "source": [
    "#scrape tabular data from page\n",
    "table = pd.read_html(mars_facts_url)\n",
    "table"
   ]
  },
  {
   "cell_type": "code",
   "execution_count": 17,
   "id": "fec57812",
   "metadata": {},
   "outputs": [
    {
     "data": {
      "text/plain": [
       "list"
      ]
     },
     "execution_count": 17,
     "metadata": {},
     "output_type": "execute_result"
    }
   ],
   "source": [
    "type(table)\n",
    "\n",
    "#html_table = table.to_html()\n",
    "#html_table"
   ]
  },
  {
   "cell_type": "code",
   "execution_count": 18,
   "id": "a5999628",
   "metadata": {},
   "outputs": [
    {
     "data": {
      "text/html": [
       "<div>\n",
       "<style scoped>\n",
       "    .dataframe tbody tr th:only-of-type {\n",
       "        vertical-align: middle;\n",
       "    }\n",
       "\n",
       "    .dataframe tbody tr th {\n",
       "        vertical-align: top;\n",
       "    }\n",
       "\n",
       "    .dataframe thead th {\n",
       "        text-align: right;\n",
       "    }\n",
       "</style>\n",
       "<table border=\"1\" class=\"dataframe\">\n",
       "  <thead>\n",
       "    <tr style=\"text-align: right;\">\n",
       "      <th></th>\n",
       "      <th>0</th>\n",
       "      <th>1</th>\n",
       "      <th>2</th>\n",
       "    </tr>\n",
       "  </thead>\n",
       "  <tbody>\n",
       "    <tr>\n",
       "      <th>0</th>\n",
       "      <td>Mars - Earth Comparison</td>\n",
       "      <td>Mars</td>\n",
       "      <td>Earth</td>\n",
       "    </tr>\n",
       "    <tr>\n",
       "      <th>1</th>\n",
       "      <td>Diameter:</td>\n",
       "      <td>6,779 km</td>\n",
       "      <td>12,742 km</td>\n",
       "    </tr>\n",
       "    <tr>\n",
       "      <th>2</th>\n",
       "      <td>Mass:</td>\n",
       "      <td>6.39 × 10^23 kg</td>\n",
       "      <td>5.97 × 10^24 kg</td>\n",
       "    </tr>\n",
       "    <tr>\n",
       "      <th>3</th>\n",
       "      <td>Moons:</td>\n",
       "      <td>2</td>\n",
       "      <td>1</td>\n",
       "    </tr>\n",
       "    <tr>\n",
       "      <th>4</th>\n",
       "      <td>Distance from Sun:</td>\n",
       "      <td>227,943,824 km</td>\n",
       "      <td>149,598,262 km</td>\n",
       "    </tr>\n",
       "  </tbody>\n",
       "</table>\n",
       "</div>"
      ],
      "text/plain": [
       "                         0                1                2\n",
       "0  Mars - Earth Comparison             Mars            Earth\n",
       "1                Diameter:         6,779 km        12,742 km\n",
       "2                    Mass:  6.39 × 10^23 kg  5.97 × 10^24 kg\n",
       "3                   Moons:                2                1\n",
       "4       Distance from Sun:   227,943,824 km   149,598,262 km"
      ]
     },
     "execution_count": 18,
     "metadata": {},
     "output_type": "execute_result"
    }
   ],
   "source": [
    "df= table[0]\n",
    "df.head()"
   ]
  },
  {
   "cell_type": "code",
   "execution_count": 19,
   "id": "9745dea6",
   "metadata": {},
   "outputs": [],
   "source": [
    "#generate HTML table from DataFrame\n",
    "html_table = df.to_html()"
   ]
  },
  {
   "cell_type": "code",
   "execution_count": 20,
   "id": "68232e7b",
   "metadata": {},
   "outputs": [
    {
     "data": {
      "text/plain": [
       "'<table border=\"1\" class=\"dataframe\">\\n  <thead>\\n    <tr style=\"text-align: right;\">\\n      <th></th>\\n      <th>0</th>\\n      <th>1</th>\\n      <th>2</th>\\n    </tr>\\n  </thead>\\n  <tbody>\\n    <tr>\\n      <th>0</th>\\n      <td>Mars - Earth Comparison</td>\\n      <td>Mars</td>\\n      <td>Earth</td>\\n    </tr>\\n    <tr>\\n      <th>1</th>\\n      <td>Diameter:</td>\\n      <td>6,779 km</td>\\n      <td>12,742 km</td>\\n    </tr>\\n    <tr>\\n      <th>2</th>\\n      <td>Mass:</td>\\n      <td>6.39 × 10^23 kg</td>\\n      <td>5.97 × 10^24 kg</td>\\n    </tr>\\n    <tr>\\n      <th>3</th>\\n      <td>Moons:</td>\\n      <td>2</td>\\n      <td>1</td>\\n    </tr>\\n    <tr>\\n      <th>4</th>\\n      <td>Distance from Sun:</td>\\n      <td>227,943,824 km</td>\\n      <td>149,598,262 km</td>\\n    </tr>\\n    <tr>\\n      <th>5</th>\\n      <td>Length of Year:</td>\\n      <td>687 Earth days</td>\\n      <td>365.24 days</td>\\n    </tr>\\n    <tr>\\n      <th>6</th>\\n      <td>Temperature:</td>\\n      <td>-87 to -5 °C</td>\\n      <td>-88 to 58°C</td>\\n    </tr>\\n  </tbody>\\n</table>'"
      ]
     },
     "execution_count": 20,
     "metadata": {},
     "output_type": "execute_result"
    }
   ],
   "source": [
    "html_table"
   ]
  },
  {
   "cell_type": "code",
   "execution_count": 21,
   "id": "51af8d5f",
   "metadata": {},
   "outputs": [
    {
     "data": {
      "text/plain": [
       "'<table border=\"1\" class=\"dataframe\">  <thead>    <tr style=\"text-align: right;\">      <th></th>      <th>0</th>      <th>1</th>      <th>2</th>    </tr>  </thead>  <tbody>    <tr>      <th>0</th>      <td>Mars - Earth Comparison</td>      <td>Mars</td>      <td>Earth</td>    </tr>    <tr>      <th>1</th>      <td>Diameter:</td>      <td>6,779 km</td>      <td>12,742 km</td>    </tr>    <tr>      <th>2</th>      <td>Mass:</td>      <td>6.39 × 10^23 kg</td>      <td>5.97 × 10^24 kg</td>    </tr>    <tr>      <th>3</th>      <td>Moons:</td>      <td>2</td>      <td>1</td>    </tr>    <tr>      <th>4</th>      <td>Distance from Sun:</td>      <td>227,943,824 km</td>      <td>149,598,262 km</td>    </tr>    <tr>      <th>5</th>      <td>Length of Year:</td>      <td>687 Earth days</td>      <td>365.24 days</td>    </tr>    <tr>      <th>6</th>      <td>Temperature:</td>      <td>-87 to -5 °C</td>      <td>-88 to 58°C</td>    </tr>  </tbody></table>'"
      ]
     },
     "execution_count": 21,
     "metadata": {},
     "output_type": "execute_result"
    }
   ],
   "source": [
    "#strip unwanted newlines\n",
    "html_table.replace('\\n', '')"
   ]
  },
  {
   "cell_type": "code",
   "execution_count": 22,
   "id": "0eeb24d9",
   "metadata": {},
   "outputs": [],
   "source": [
    "#Mars Hemispheres"
   ]
  },
  {
   "cell_type": "code",
   "execution_count": 23,
   "id": "fd0c7675",
   "metadata": {},
   "outputs": [
    {
     "data": {
      "text/plain": [
       "bs4.BeautifulSoup"
      ]
     },
     "execution_count": 23,
     "metadata": {},
     "output_type": "execute_result"
    }
   ],
   "source": [
    "#url to be scraped\n",
    "mars_hemispheres_url = 'https://marshemispheres.com/'\n",
    "browser.visit(mars_hemispheres_url)\n",
    "\n",
    "#retrieve page \n",
    "html = browser.html\n",
    "\n",
    "#create BeautifulSoup object\n",
    "soup = bs(html, 'html.parser')\n",
    "type(soup)"
   ]
  },
  {
   "cell_type": "code",
   "execution_count": 24,
   "id": "66817c0e",
   "metadata": {},
   "outputs": [],
   "source": [
    "#create dictionary\n",
    "hemisphere_image_dict = []"
   ]
  },
  {
   "cell_type": "code",
   "execution_count": 25,
   "id": "990f83e5",
   "metadata": {},
   "outputs": [
    {
     "name": "stdout",
     "output_type": "stream",
     "text": [
      "[{'Title': 'Cerberus Hemisphere Enhanced', 'img_url': 'https://marshemispheres.com/images/f5e372a36edfa389625da6d0cc25d905_cerberus_enhanced.tif_full.jpg'}, {'Title': 'Schiaparelli Hemisphere Enhanced', 'img_url': 'https://marshemispheres.com/images/3778f7b43bbbc89d6e3cfabb3613ba93_schiaparelli_enhanced.tif_full.jpg'}, {'Title': 'Syrtis Major Hemisphere Enhanced', 'img_url': 'https://marshemispheres.com/images/555e6403a6ddd7ba16ddb0e471cadcf7_syrtis_major_enhanced.tif_full.jpg'}, {'Title': 'Valles Marineris Hemisphere Enhanced', 'img_url': 'https://marshemispheres.com/images/b3c7c6c9138f57b4756be9b9c43e3a48_valles_marineris_enhanced.tif_full.jpg'}]\n"
     ]
    }
   ],
   "source": [
    "\n",
    "items = soup.find_all('div', class_= 'item')\n",
    "\n",
    "for item in items: \n",
    "    title = item.find('h3').text\n",
    "    link = item.find('a', class_='itemLink')[\"href\"]\n",
    "    hemisphereslink = mars_hemispheres_url + link\n",
    "    browser.visit(hemisphereslink)\n",
    "    hemispherehtml = browser.html\n",
    "    soup2 = bs(hemispherehtml, 'html.parser')\n",
    "    img = soup2.find('img', class_= 'wide-image')[\"src\"]\n",
    "    imgurl = mars_hemispheres_url + img\n",
    "    hemisphere_image_dict.append({\"Title\": title, \"img_url\": imgurl})\n",
    "    \n",
    "print(hemisphere_image_dict)\n",
    "browser.quit()"
   ]
  },
  {
   "cell_type": "code",
   "execution_count": 26,
   "id": "69df4906",
   "metadata": {},
   "outputs": [],
   "source": [
    "#Part 2: MongoDB and Flask Application"
   ]
  },
  {
   "cell_type": "code",
   "execution_count": 28,
   "id": "af57ba36",
   "metadata": {},
   "outputs": [],
   "source": [
    "#convert jupyter notebook into python script called scrape_mars.py\n",
    "#from splinter import Browser\n",
    "#from bs4 import BeautifulSoup as bs\n",
    "#import time\n",
    "#from webdriver_manager.chrome import ChromeDriverManager\n",
    "#import pandas as pd\n",
    "#import requests"
   ]
  },
  {
   "cell_type": "code",
   "execution_count": 34,
   "id": "5bd1efdf",
   "metadata": {},
   "outputs": [],
   "source": [
    "#def scrape():\n",
    "    #set up splinter\n",
    "    #executable_path = {'executable_path': ChromeDriverManager().install()}\n",
    "    #browser = Browser('chrome', **executable_path, headless=False)\n",
    "    \n",
    "    #visit each url\n",
    "    #url = 'https://redplanetscience.com/'\n",
    "    #space_images_url = 'https://spaceimages-mars.com/'\n",
    "    #mars_facts_url = 'https://galaxyfacts-mars.com/'\n",
    "    #mars_hemispheres_url = 'https://marshemispheres.com/'\n",
    "    #scrape_mars = {}\n",
    "    \n",
    "    #first url\n",
    "    #browser.visit(url)\n",
    "    #time.sleep(1)\n",
    "    #scrape page into soup\n",
    "    #html = browser.html\n",
    "    #soup = bs(html, 'html.parser')\n",
    "    #latest_news_title = soup.find('div', class_='content_title').get_text()\n",
    "    #latest_news_paragraph = soup.find('div', class_='article_teaser_body').get_text()\n",
    "    \n",
    "    #space images url\n",
    "    #browser.visit(space_images_url)\n",
    "    #time.sleep(1)\n",
    "    #scrape page into soup\n",
    "    #html = browser.html\n",
    "    #soup = bs(html, 'html.parser')\n",
    "    #image_url = soup.find('img', class_='headerimage fade-in').get(\"src\")\n",
    "   \n",
    "    \n",
    "    #mars facts url\n",
    "    #browser.visit(mars_facts_url)\n",
    "    #time.sleep(1)\n",
    "    #scrape page into soup\n",
    "    #html = browser.html\n",
    "    #soup = bs(html, 'html.parser')\n",
    "    #html_table = df.to_html()\n",
    "    #html_table.replace('\\n', '')\n",
    "    #html_table\n",
    "    \n",
    "    #mars hemispheres url\n",
    "    #browser.visit(mars_hemispheres_url)\n",
    "    #time.sleep(1)\n",
    "    #scrape page into soup\n",
    "    #html= browser.html\n",
    "    #soup = bs(html, 'html.parser')\n",
    "    #hemisphere_image_dict = []\n",
    "    #items = soup.find_all('div', class_= 'item')\n",
    "    #for item in items: \n",
    "        #title = item.find('h3').text\n",
    "        #link = item.find('a', class_='itemLink')[\"href\"]\n",
    "        #hemisphereslink = mars_hemispheres_url + link\n",
    "        #browser.visit(hemisphereslink)\n",
    "        #hemispherehtml = browser.html\n",
    "        #soup2 = bs(hemispherehtml, 'html.parser')\n",
    "        #img = soup2.find('img', class_= 'wide-image')[\"src\"]\n",
    "        #imgurl = mars_hemispheres_url + img\n",
    "        #hemisphere_image_dict.append({\"Title\": title, \"img_url\": imgurl})\n",
    "    #hemisphere_image_dict\n",
    "    \n",
    "    "
   ]
  },
  {
   "cell_type": "code",
   "execution_count": null,
   "id": "b74aa820",
   "metadata": {},
   "outputs": [],
   "source": [
    "#store data in a dictionary \n",
    "#scrape_mars = {\n",
    "    \n",
    "#}\n",
    "\n",
    "#close browser after scraping\n",
    "#browser.quit()\n",
    "\n",
    "#return results\n",
    "#return scrape_mars"
   ]
  }
 ],
 "metadata": {
  "kernelspec": {
   "display_name": "Python [conda env:PythonData38] *",
   "language": "python",
   "name": "conda-env-PythonData38-py"
  },
  "language_info": {
   "codemirror_mode": {
    "name": "ipython",
    "version": 3
   },
   "file_extension": ".py",
   "mimetype": "text/x-python",
   "name": "python",
   "nbconvert_exporter": "python",
   "pygments_lexer": "ipython3",
   "version": "3.8.12"
  }
 },
 "nbformat": 4,
 "nbformat_minor": 5
}
